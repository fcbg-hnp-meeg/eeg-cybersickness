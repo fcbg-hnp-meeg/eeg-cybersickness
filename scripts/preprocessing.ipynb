{
 "cells": [
  {
   "cell_type": "markdown",
   "id": "70216095-7ccc-4f57-b534-e80bbb958a83",
   "metadata": {},
   "source": [
    "# Preprocessing"
   ]
  },
  {
   "cell_type": "code",
   "execution_count": null,
   "id": "a5b9c533-aa0d-42d8-9e4e-5713d4622fad",
   "metadata": {},
   "outputs": [],
   "source": [
    "from mne.preprocessing import compute_bridged_electrodes, interpolate_bridged_electrodes\n",
    "from mne.viz import plot_bridged_electrodes\n",
    "\n",
    "from eeg_cybersickness.io import read_raw\n",
    "from eeg_cybersickness.utils.path import get_derivative_stem"
   ]
  },
  {
   "cell_type": "code",
   "execution_count": null,
   "id": "dd463739-8123-4297-b40b-6630d4a35bdc",
   "metadata": {
    "tags": []
   },
   "outputs": [],
   "source": [
    "root = \"/mnt/Isilon/9003_CBT_HNP_MEEG/projects/project_cybersickness/data\"\n",
    "participant = 57\n",
    "session = 1\n",
    "raw = read_raw(root, participant, session)\n",
    "derivative_stem = get_derivative_stem(root, participant, session)"
   ]
  },
  {
   "cell_type": "markdown",
   "id": "090c9686-8564-49ff-9754-feb355097c83",
   "metadata": {},
   "source": [
    "## Remove unused electrodes\n",
    "\n",
    "The mastoids electrodes M1, M2 and the EOG droplead electrode were not connected."
   ]
  },
  {
   "cell_type": "code",
   "execution_count": null,
   "id": "41a74388-3b84-4c71-b6a6-bc8a68ed0d1a",
   "metadata": {},
   "outputs": [],
   "source": [
    "channels_to_drop = [ch for ch in (\"M1\", \"M2\", \"EOG\") if ch in raw.ch_names]\n",
    "if len(channels_to_drop) != 0:\n",
    "    raw.drop_channels(channels_to_drop)"
   ]
  },
  {
   "cell_type": "markdown",
   "id": "75a1d14b-b4f9-4047-ae61-4823760b6918",
   "metadata": {
    "tags": []
   },
   "source": [
    "## Look for gel-bridges\n",
    "\n",
    "If possible, the bridges are repaired by interpolation. If not, they are kept as bads in `raw.info[\"bads\"]`."
   ]
  },
  {
   "cell_type": "code",
   "execution_count": null,
   "id": "7474fc7c-cec5-4c3f-b905-a607b565e81d",
   "metadata": {},
   "outputs": [],
   "source": [
    "raw.set_montage(\"standard_1020\")\n",
    "bridged_idx, ed_matrix = compute_bridged_electrodes(raw)\n",
    "%matplotlib inline\n",
    "_ = plot_bridged_electrodes(\n",
    "    raw.info,\n",
    "    bridged_idx,\n",
    "    ed_matrix,\n",
    "    title=\"Bridged Electrodes\",\n",
    "    topomap_args=dict(vlim=(0, 5)),\n",
    ")"
   ]
  },
  {
   "cell_type": "code",
   "execution_count": null,
   "id": "cded02e6-4c79-43a9-9f52-c511910a573a",
   "metadata": {},
   "outputs": [],
   "source": [
    "interpolate_bridged_electrodes(raw, bridged_idx)"
   ]
  },
  {
   "cell_type": "code",
   "execution_count": null,
   "id": "79481179-3514-4ef2-a6b7-07dddbe132b8",
   "metadata": {},
   "outputs": [],
   "source": [
    "raw.set_montage(None)"
   ]
  },
  {
   "cell_type": "markdown",
   "id": "1b9ef708-d25e-48f8-a8ae-e9379aab32e1",
   "metadata": {
    "tags": []
   },
   "source": [
    "## Filter"
   ]
  },
  {
   "cell_type": "code",
   "execution_count": null,
   "id": "7675b622-a3d7-47e1-b9cf-8ad006e819a9",
   "metadata": {},
   "outputs": [],
   "source": [
    "raw.filter(\n",
    "    l_freq=1.,\n",
    "    h_freq=30.,\n",
    "    method=\"fir\",\n",
    "    phase=\"zero-double\",\n",
    "    fir_window=\"hamming\",\n",
    "    fir_design=\"firwin\",\n",
    "    pad=\"edge\",\n",
    ")"
   ]
  },
  {
   "cell_type": "markdown",
   "id": "a9cc7c65-03c6-4602-ad18-b7298fe9074c",
   "metadata": {},
   "source": [
    "## Annotate bad channels and segments"
   ]
  },
  {
   "cell_type": "code",
   "execution_count": null,
   "id": "d5a69271-9e80-4ce2-9447-4e7b8996cc2c",
   "metadata": {},
   "outputs": [],
   "source": [
    "%matplotlib qt\n",
    "raw.plot()"
   ]
  },
  {
   "cell_type": "markdown",
   "id": "34a5e803-e786-4f8e-9181-b0689effc8ad",
   "metadata": {},
   "source": [
    "## Save RAW before ICA decomposition"
   ]
  },
  {
   "cell_type": "code",
   "execution_count": null,
   "id": "1eb5a56d-8a2c-4b1a-be84-c4fbe205bb47",
   "metadata": {},
   "outputs": [],
   "source": [
    "fname = derivative_stem.with_name(f\"{derivative_stem.name}-raw.fif\")\n",
    "raw.save(fname)"
   ]
  }
 ],
 "metadata": {
  "kernelspec": {
   "display_name": "fcbg-hnp-meeg_eeg-cybersickness",
   "language": "python",
   "name": "fcbg-hnp-meeg_eeg-cybersickness"
  },
  "language_info": {
   "codemirror_mode": {
    "name": "ipython",
    "version": 3
   },
   "file_extension": ".py",
   "mimetype": "text/x-python",
   "name": "python",
   "nbconvert_exporter": "python",
   "pygments_lexer": "ipython3",
   "version": "3.10.6"
  }
 },
 "nbformat": 4,
 "nbformat_minor": 5
}
